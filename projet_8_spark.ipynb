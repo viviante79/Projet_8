{
 "cells": [
  {
   "cell_type": "code",
   "execution_count": 1,
   "id": "db2fc9f5",
   "metadata": {
    "scrolled": true
   },
   "outputs": [],
   "source": [
    "# Configuration de l'environnement pour Pyspark :\n",
    "import findspark\n",
    "findspark.init()\n",
    "import os\n",
    "os.environ[\"PYSPARK_SUBMIT_ARGS\"] = \"--master local[2] pyspark-shell\"\n",
    "os.environ[\"JAVA_HOME\"] = \"C:/Users/7700k/anaconda3/envs/virtual_pyspark_3/Library\""
   ]
  },
  {
   "cell_type": "code",
   "execution_count": 55,
   "id": "6f639e4b",
   "metadata": {},
   "outputs": [],
   "source": [
    "# Initialisation des commandes de calculs distribués :\n",
    "from pyspark.sql import SparkSession, Row\n",
    "from pyspark import SparkContext\n",
    "sc = SparkContext.getOrCreate()\n",
    "spark = SparkSession.builder.getOrCreate()"
   ]
  },
  {
   "cell_type": "code",
   "execution_count": 48,
   "id": "591e2782",
   "metadata": {},
   "outputs": [],
   "source": [
    "# Adresse des répertoires :\n",
    "path = \"C:/Users/7700k/Desktop/Projet 8/dataset/\"\n",
    "cat = os.listdir(path)"
   ]
  },
  {
   "cell_type": "code",
   "execution_count": 111,
   "id": "f046ba2c",
   "metadata": {},
   "outputs": [],
   "source": [
    "# Récupération des adresses et des libellés d'images :\n",
    "images_path = []\n",
    "images_target = []\n",
    "for c in cat :\n",
    "    for file in os.listdir(path + c) :\n",
    "        images_path.append(c + \"/\" + file)\n",
    "        images_target.append(c)"
   ]
  },
  {
   "cell_type": "code",
   "execution_count": 195,
   "id": "f657a180",
   "metadata": {},
   "outputs": [
    {
     "name": "stdout",
     "output_type": "stream",
     "text": [
      "+--------------------+---------+\n",
      "|              images|   target|\n",
      "+--------------------+---------+\n",
      "| Blueberry/0_100.jpg|Blueberry|\n",
      "|Blueberry/100_100...|Blueberry|\n",
      "|Blueberry/101_100...|Blueberry|\n",
      "|Blueberry/102_100...|Blueberry|\n",
      "|Blueberry/103_100...|Blueberry|\n",
      "|Blueberry/104_100...|Blueberry|\n",
      "|Blueberry/105_100...|Blueberry|\n",
      "|Blueberry/106_100...|Blueberry|\n",
      "|Blueberry/107_100...|Blueberry|\n",
      "|Blueberry/108_100...|Blueberry|\n",
      "|Blueberry/109_100...|Blueberry|\n",
      "|Blueberry/10_100.jpg|Blueberry|\n",
      "|Blueberry/110_100...|Blueberry|\n",
      "|Blueberry/111_100...|Blueberry|\n",
      "|Blueberry/112_100...|Blueberry|\n",
      "|Blueberry/113_100...|Blueberry|\n",
      "|Blueberry/114_100...|Blueberry|\n",
      "|Blueberry/115_100...|Blueberry|\n",
      "|Blueberry/116_100...|Blueberry|\n",
      "|Blueberry/117_100...|Blueberry|\n",
      "+--------------------+---------+\n",
      "only showing top 20 rows\n",
      "\n"
     ]
    }
   ],
   "source": [
    "# Création d'un Dataframe Spark :\n",
    "df = spark.createDataFrame(zip(images_path, images_target), [\"images\",\"target\"]).show()"
   ]
  }
 ],
 "metadata": {
  "kernelspec": {
   "display_name": "virtual_pyspark_3",
   "language": "python",
   "name": "virtual_pyspark_3"
  },
  "language_info": {
   "codemirror_mode": {
    "name": "ipython",
    "version": 3
   },
   "file_extension": ".py",
   "mimetype": "text/x-python",
   "name": "python",
   "nbconvert_exporter": "python",
   "pygments_lexer": "ipython3",
   "version": "3.9.12"
  }
 },
 "nbformat": 4,
 "nbformat_minor": 5
}
